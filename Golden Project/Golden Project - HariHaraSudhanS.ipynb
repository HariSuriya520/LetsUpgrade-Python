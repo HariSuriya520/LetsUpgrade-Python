{
 "cells": [
  {
   "cell_type": "markdown",
   "metadata": {},
   "source": [
    "# 🔥 Golden Project"
   ]
  },
  {
   "cell_type": "markdown",
   "metadata": {},
   "source": [
    "## Golden Project B4 FCS XA"
   ]
  },
  {
   "cell_type": "raw",
   "metadata": {},
   "source": [
    "You have been given an array A of size N consisting of positive integers. You need to find and print the product of all the number in this array Modulo 109+7.\n",
    "\n",
    "Input Format:\n",
    "The first line contains a single integer N denoting the size of the array. The next line contains N space separated integers denoting the elements of the array\n",
    "\n",
    "Output Format:\n",
    "Print a single integer denoting the product of all the elements of the array Modulo 109+7.\n",
    "\n",
    "Constraints:\n",
    "1≤N≤103\n",
    "1≤A[i]≤103\n",
    "\n",
    "SAMPLE INPUT \n",
    "5\n",
    "1 2 3 4 5\n",
    "SAMPLE OUTPUT \n",
    "120\n",
    "\n",
    "Explanation\n",
    "There are 5 integers to multiply. Let's store the final answer in answer variable. Since 1 is identity value for multiplication, initialize answer as 1.\n",
    "\n",
    "So the process goes as follows:\n",
    "\n",
    "answer=1\n",
    "answer=(answer×1) % (109+7)\n",
    "answer=(answer×2) % (109+7)\n",
    "answer=(answer×3) % (109+7)\n",
    "answer=(answer×4) % (109+7)\n",
    "answer=(answer×5) % (109+7)\n",
    "\n",
    "The above process will yield answer as "
   ]
  },
  {
   "cell_type": "code",
   "execution_count": 3,
   "metadata": {},
   "outputs": [
    {
     "name": "stdout",
     "output_type": "stream",
     "text": [
      "Enter a value for Size: 5\n",
      "1\n",
      "2\n",
      "3\n",
      "4\n",
      "5\n",
      "product of all the elements:  120\n"
     ]
    }
   ],
   "source": [
    "def ProductofallElements():\n",
    "    '''\n",
    "    this is a function to find and print\n",
    "    the product of all the number in this array Modulo 109+7.\n",
    "    '''\n",
    "    Size = int(input(\"Enter a value for Size: \")) #To get input from user for Size variable\n",
    "    Product = 1\n",
    "    if Size >= 1 and Size <= 103: #Constraints range\n",
    "        for i in range(Size):\n",
    "            Product = (Product * int(input())) % (10 ** 9 + 7) #Formula\n",
    "    print(\"product of all the elements: \",Product) #Output\n",
    "\n",
    "ProductofallElements()"
   ]
  },
  {
   "cell_type": "code",
   "execution_count": 4,
   "metadata": {},
   "outputs": [
    {
     "name": "stdout",
     "output_type": "stream",
     "text": [
      "Enter a value for Size: 8\n",
      "5\n",
      "4\n",
      "6\n",
      "3\n",
      "2\n",
      "8\n",
      "4\n",
      "1\n",
      "product of all the elements:  23040\n"
     ]
    }
   ],
   "source": [
    "ProductofallElements()"
   ]
  },
  {
   "cell_type": "code",
   "execution_count": null,
   "metadata": {},
   "outputs": [],
   "source": []
  }
 ],
 "metadata": {
  "kernelspec": {
   "display_name": "Python 3",
   "language": "python",
   "name": "python3"
  },
  "language_info": {
   "codemirror_mode": {
    "name": "ipython",
    "version": 3
   },
   "file_extension": ".py",
   "mimetype": "text/x-python",
   "name": "python",
   "nbconvert_exporter": "python",
   "pygments_lexer": "ipython3",
   "version": "3.7.6"
  }
 },
 "nbformat": 4,
 "nbformat_minor": 4
}
