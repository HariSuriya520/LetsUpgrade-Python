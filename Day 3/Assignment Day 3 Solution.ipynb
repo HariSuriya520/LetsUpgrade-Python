{
 "cells": [
  {
   "cell_type": "markdown",
   "metadata": {},
   "source": [
    "# Question 1 :"
   ]
  },
  {
   "cell_type": "markdown",
   "metadata": {},
   "source": [
    "You all are Pilots, you want to land a plane safely, so WAP to take current altitude as input and\n",
    "check weather the altitude is less than 1000 ft, or more than 1000 ft, and if it's less than 5000ft\n",
    "ask pilot to bring it further down to 1000 ft and if it is more than 5000ft then ask pilot to turn\n",
    "around and attempt later\n",
    "Example : Input - 1000\n",
    " Output - Safe to land\n",
    "Example : Input - 4500\n",
    " Output - Bring down to 1000\n",
    "Example : Input - 6500\n",
    " Output - Turn Around"
   ]
  },
  {
   "cell_type": "code",
   "execution_count": 8,
   "metadata": {},
   "outputs": [
    {
     "name": "stdout",
     "output_type": "stream",
     "text": [
      "8000\n",
      "Turn Around\n"
     ]
    }
   ],
   "source": [
    "Altitude = int(input())\n",
    "if Altitude <= 1000:\n",
    "    print('Safe to land')\n",
    "elif Altitude > 1000 and Altitude < 5000:\n",
    "    print('Bring down to 1000')\n",
    "elif Altitude > 5000:\n",
    "    print('Turn Around')"
   ]
  },
  {
   "cell_type": "markdown",
   "metadata": {},
   "source": [
    "# Question 2 :\n"
   ]
  },
  {
   "cell_type": "markdown",
   "metadata": {},
   "source": [
    "Using for loop please print all the prime numbers between 1 - 200 using FOR LOOP AND\n",
    "RANGE function\n",
    "Output - 2,3,5,7,..........."
   ]
  },
  {
   "cell_type": "code",
   "execution_count": 11,
   "metadata": {},
   "outputs": [
    {
     "name": "stdout",
     "output_type": "stream",
     "text": [
      "2\n",
      "3\n",
      "5\n",
      "7\n",
      "11\n",
      "13\n",
      "17\n",
      "19\n",
      "23\n",
      "29\n",
      "31\n",
      "37\n",
      "41\n",
      "43\n",
      "47\n",
      "53\n",
      "59\n",
      "61\n",
      "67\n",
      "71\n",
      "73\n",
      "79\n",
      "83\n",
      "89\n",
      "97\n",
      "101\n",
      "103\n",
      "107\n",
      "109\n",
      "113\n",
      "127\n",
      "131\n",
      "137\n",
      "139\n",
      "149\n",
      "151\n",
      "157\n",
      "163\n",
      "167\n",
      "173\n",
      "179\n",
      "181\n",
      "191\n",
      "193\n",
      "197\n",
      "199\n"
     ]
    }
   ],
   "source": [
    "Starting_Number = 1\n",
    "Ending_Number = 200\n",
    "\n",
    "for num in range(Starting_Number, Ending_Number + 1):\n",
    "   if num > 1:\n",
    "       for i in range(2, num):\n",
    "           if (num % i) == 0:\n",
    "               break\n",
    "       else:\n",
    "           print(num)"
   ]
  },
  {
   "cell_type": "markdown",
   "metadata": {},
   "source": [
    "# Question 3 :"
   ]
  },
  {
   "cell_type": "markdown",
   "metadata": {},
   "source": [
    "Print the first ArmStrong number in the range of 1042000 to 702648265 and exit the loop as soon you\n",
    "encounter the first armstrong number\n",
    "Use While Loop\n",
    "Output:-\n",
    "The first armstrong number is:-"
   ]
  },
  {
   "cell_type": "code",
   "execution_count": null,
   "metadata": {},
   "outputs": [],
   "source": [
    "Starting_Number = 1042000\n",
    "Ending_Number = 702648265\n",
    "arm = [ ]\n",
    "\n",
    "for num in range(Starting_Number, Ending_Number + 1):\n",
    "\n",
    "   order = len(str(num))\n",
    "\n",
    "   sum = 0\n",
    "\n",
    "   temp = num\n",
    "   while temp > 0:\n",
    "       digit = temp % 10\n",
    "       sum += digit ** order\n",
    "       temp //= 10\n",
    "\n",
    "   if num == sum:\n",
    "       arm.append(num)\n",
    "       print('The first armstrong number is:-',arm[0])\n",
    "       break"
   ]
  },
  {
   "cell_type": "code",
   "execution_count": null,
   "metadata": {},
   "outputs": [],
   "source": []
  }
 ],
 "metadata": {
  "kernelspec": {
   "display_name": "Python 3",
   "language": "python",
   "name": "python3"
  },
  "language_info": {
   "codemirror_mode": {
    "name": "ipython",
    "version": 3
   },
   "file_extension": ".py",
   "mimetype": "text/x-python",
   "name": "python",
   "nbconvert_exporter": "python",
   "pygments_lexer": "ipython3",
   "version": "3.7.6"
  }
 },
 "nbformat": 4,
 "nbformat_minor": 4
}
