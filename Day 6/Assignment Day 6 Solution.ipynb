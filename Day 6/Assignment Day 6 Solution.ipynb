{
 "cells": [
  {
   "cell_type": "markdown",
   "metadata": {},
   "source": [
    "# Question 1 :\n"
   ]
  },
  {
   "cell_type": "markdown",
   "metadata": {},
   "source": [
    "For this challenge, create a bank account class that has two attributes:\n",
    "● ownerName\n",
    "● balance\n",
    "and two methods:\n",
    "● deposit\n",
    "● withdraw\n",
    "As an added requirement, withdrawals may not exceed the available balance.\n",
    "Instantiate your class, make several deposits and withdrawals, and test to make sure the account\n",
    "can't be overdrawn."
   ]
  },
  {
   "cell_type": "code",
   "execution_count": 1,
   "metadata": {},
   "outputs": [],
   "source": [
    "class Bank:\n",
    "    AccountHolderName=\" \"\n",
    "    Balance=0\n",
    "    def __init__(self, AccountHolderName, Balance):\n",
    "        self.AccountHolderName=AccountHolderName\n",
    "        self.Balance=Balance\n",
    "    def Deposit(self, Deposit):\n",
    "        self.Balance += Deposit\n",
    "    def Withdraw(self, Withdraw):\n",
    "        if self.Balance<Withdraw:\n",
    "            print(\"You've insuficient balance to make this transaction \\n\\nPlease Enter a valid amount\")\n",
    "        else:\n",
    "            self.Balance -= Withdraw\n",
    "            print(\"Your Current Balance is Rs.\",self.Balance)"
   ]
  },
  {
   "cell_type": "code",
   "execution_count": 2,
   "metadata": {},
   "outputs": [],
   "source": [
    "IDBI=Bank(\"Hari Hara Sudhan S\", 1000)"
   ]
  },
  {
   "cell_type": "code",
   "execution_count": 3,
   "metadata": {},
   "outputs": [],
   "source": [
    "IDBI.Deposit(5000)"
   ]
  },
  {
   "cell_type": "code",
   "execution_count": 4,
   "metadata": {},
   "outputs": [
    {
     "name": "stdout",
     "output_type": "stream",
     "text": [
      "Your Current Balance is Rs. 3000\n"
     ]
    }
   ],
   "source": [
    "IDBI.Withdraw(3000)"
   ]
  },
  {
   "cell_type": "code",
   "execution_count": 5,
   "metadata": {},
   "outputs": [
    {
     "name": "stdout",
     "output_type": "stream",
     "text": [
      "You've insuficient balance to make this transaction \n",
      "\n",
      "Please Enter a valid amount\n"
     ]
    }
   ],
   "source": [
    "IDBI.Withdraw(3500)"
   ]
  },
  {
   "cell_type": "code",
   "execution_count": 6,
   "metadata": {},
   "outputs": [
    {
     "name": "stdout",
     "output_type": "stream",
     "text": [
      "Your Current Balance is Rs. 0\n"
     ]
    }
   ],
   "source": [
    "IDBI.Withdraw(3000)"
   ]
  },
  {
   "cell_type": "markdown",
   "metadata": {},
   "source": [
    "# Question 2 :\n"
   ]
  },
  {
   "cell_type": "markdown",
   "metadata": {},
   "source": [
    "For this challenge, create a Cone class that has two attributes:\n",
    "* R = Radius\n",
    "* h = height\n",
    "and two methods:\n",
    "* Volume - π × r² × (h/3)\n",
    "* Surface area: base: π × r², side: π × r × √(r²+h²)\n",
    "Make only one class with functions, as in where required Import Math"
   ]
  },
  {
   "cell_type": "code",
   "execution_count": 43,
   "metadata": {},
   "outputs": [],
   "source": [
    "import math\n",
    "class Cone:\n",
    "    Radius=0\n",
    "    Height=0\n",
    "    def __init__(self, Radius, Height):\n",
    "        self.Radius=Radius\n",
    "        self.Height=Height\n",
    "    def Cone_Challenge(Radius, Height):\n",
    "        l = math.sqrt(Radius * Radius + Height * Height)\n",
    "        SurfaceArea = math.pi * Radius * (Radius + l)\n",
    "        Volume = (1.0/3) * math.pi * Radius * Radius * Height\n",
    "        print(\" \\nThe Volume of a Cone = %.2f\" %Volume)\n",
    "        print(\" \\nThe Surface Area of a Cone = %.2f \" %SurfaceArea)"
   ]
  },
  {
   "cell_type": "code",
   "execution_count": 44,
   "metadata": {},
   "outputs": [],
   "source": [
    "ChallengeCone = Cone(0,0)"
   ]
  },
  {
   "cell_type": "code",
   "execution_count": 45,
   "metadata": {},
   "outputs": [
    {
     "name": "stdout",
     "output_type": "stream",
     "text": [
      " \n",
      "The Volume of a Cone = 20.94\n",
      " \n",
      "The Surface Area of a Cone = 46.40 \n"
     ]
    }
   ],
   "source": [
    "Cone.Cone_Challenge(2,5)"
   ]
  }
 ],
 "metadata": {
  "kernelspec": {
   "display_name": "Python 3",
   "language": "python",
   "name": "python3"
  },
  "language_info": {
   "codemirror_mode": {
    "name": "ipython",
    "version": 3
   },
   "file_extension": ".py",
   "mimetype": "text/x-python",
   "name": "python",
   "nbconvert_exporter": "python",
   "pygments_lexer": "ipython3",
   "version": "3.7.6"
  }
 },
 "nbformat": 4,
 "nbformat_minor": 4
}
