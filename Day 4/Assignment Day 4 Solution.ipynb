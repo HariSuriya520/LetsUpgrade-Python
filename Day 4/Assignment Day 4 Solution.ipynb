{
 "cells": [
  {
   "cell_type": "markdown",
   "metadata": {},
   "source": [
    "# #Assignment Day 4 | 25th June 2020"
   ]
  },
  {
   "cell_type": "markdown",
   "metadata": {},
   "source": [
    "# Question 1 :"
   ]
  },
  {
   "cell_type": "markdown",
   "metadata": {},
   "source": [
    "Make a function for taking in a number and printing a Fibonacci Series"
   ]
  },
  {
   "cell_type": "code",
   "execution_count": 36,
   "metadata": {},
   "outputs": [
    {
     "name": "stdout",
     "output_type": "stream",
     "text": [
      "1 1 2 3 5 8 13 21 34 55 "
     ]
    }
   ],
   "source": [
    "def printFibonacciNumbers(n): \n",
    "      \n",
    "    f1 = 0\n",
    "    f2 = 1\n",
    "    if (n < 1): \n",
    "        return\n",
    "    for x in range(0, n): \n",
    "        print(f2, end = \" \") \n",
    "        next = f1 + f2 \n",
    "        f1 = f2 \n",
    "        f2 = next\n",
    "          \n",
    "printFibonacciNumbers(10) "
   ]
  },
  {
   "cell_type": "markdown",
   "metadata": {},
   "source": [
    "# Question 2 :\n"
   ]
  },
  {
   "cell_type": "markdown",
   "metadata": {},
   "source": [
    "File handling question\n",
    "- Open a Binary File\n",
    "- Write “I love LetsUpgrade”\n",
    "- Read that file again\n",
    "- Append “ We all love Python Classes with LU”\n",
    "- Read again using with keyword"
   ]
  },
  {
   "cell_type": "code",
   "execution_count": 6,
   "metadata": {},
   "outputs": [],
   "source": [
    "file = open(\"Question2 Solution.txt\",\"w\")\n",
    "file.write(\"I love LetsUpgrade\")\n",
    "file.close()"
   ]
  },
  {
   "cell_type": "code",
   "execution_count": 10,
   "metadata": {},
   "outputs": [
    {
     "name": "stdout",
     "output_type": "stream",
     "text": [
      "I love LetsUpgrade\n"
     ]
    }
   ],
   "source": [
    "file = open(\"Question2 Solution.txt\",\"r\")\n",
    "ReadFile = file.read()\n",
    "print(ReadFile)\n",
    "file.close()"
   ]
  },
  {
   "cell_type": "code",
   "execution_count": 14,
   "metadata": {},
   "outputs": [],
   "source": [
    "file = open(\"Question2 Solution.txt\",\"a\")\n",
    "file.write(\"\\n\\nWe all love Python Classes with LU\")\n",
    "file.close()"
   ]
  },
  {
   "cell_type": "code",
   "execution_count": 15,
   "metadata": {},
   "outputs": [
    {
     "name": "stdout",
     "output_type": "stream",
     "text": [
      "I love LetsUpgrade\n",
      "\n",
      "We all love Python Classes with LU\n"
     ]
    }
   ],
   "source": [
    "file = open(\"Question2 Solution.txt\",\"r\")\n",
    "ReadFile = file.read()\n",
    "print(ReadFile)\n",
    "file.close()"
   ]
  },
  {
   "cell_type": "markdown",
   "metadata": {},
   "source": [
    "# Question 3 :\n",
    " "
   ]
  },
  {
   "cell_type": "markdown",
   "metadata": {},
   "source": [
    "Make a static Movie Recommender system which take in users input of what kind of movie they want to\n",
    "watch,\n",
    "1. Anim\n",
    "2. RomCom\n",
    "3. Action\n",
    "4. Thriller\n",
    "“And also randomise the movie output for every time”\n",
    "i/p - Thriller\n",
    "o/p - FNF, 6 Underground\n",
    "i/p - Thriller\n",
    "o/p - abcMovie, Sherlock holmes"
   ]
  },
  {
   "cell_type": "code",
   "execution_count": 29,
   "metadata": {},
   "outputs": [
    {
     "name": "stdout",
     "output_type": "stream",
     "text": [
      "Enter A Genre: Adventure\n",
      "Please enter a genre from the list \n",
      "\n",
      " [Anim, RomCom, Action, Thriller]\n"
     ]
    }
   ],
   "source": [
    "import random\n",
    "\n",
    "Thriller_Movies = [\"The Dark Knight Rises\", \"Inception\", \"The Fate of the Furious\", \"Maze Runner\", \"John Wick\"]\n",
    "Anim_Movies = [\"SpiderMan: Into the Spider-verse\", \"Spies in Disguise\", \"Big Hero 6\", \"Coco\", \"Cars\"]\n",
    "RomCom_Movies = [\"Aladdin\", \"Mr. & Mrs. Smith\", \"Scott Pilgrim Vs. The World\", \"The Big Sick\", \"Her\", \"Forgetting Sarah Marshall\"]\n",
    "Action_Movies = [\"Avengers\", \"Terminator\", \"BloodShot\", \"DeadPool\", \"Pacific Rim\"]\n",
    "\n",
    "def MovieRecommender(genre):\n",
    "    if genre == \"anim\":\n",
    "        print(random.choices(Anim_Movies, k = 2))\n",
    "    elif genre == \"romcom\":\n",
    "        print(random.choices(RomCom_Movies, k = 2))\n",
    "    elif genre == \"action\":\n",
    "        print(random.choices(Action_Movies, k = 2))\n",
    "    elif genre == \"thriller\":\n",
    "        print(random.choices(Thriller_Movies, k = 2))\n",
    "    else:\n",
    "        print(\"Please enter a genre from the list \\n\\n [Anim, RomCom, Action, Thriller]\")\n",
    "        \n",
    "MovieRecommender(input(\"Enter A Genre: \").lower())"
   ]
  },
  {
   "cell_type": "code",
   "execution_count": 31,
   "metadata": {},
   "outputs": [
    {
     "name": "stdout",
     "output_type": "stream",
     "text": [
      "Enter A Genre: Anim\n",
      "['Coco', 'Cars']\n"
     ]
    }
   ],
   "source": [
    "MovieRecommender(input(\"Enter A Genre: \").lower())"
   ]
  },
  {
   "cell_type": "code",
   "execution_count": 32,
   "metadata": {},
   "outputs": [
    {
     "name": "stdout",
     "output_type": "stream",
     "text": [
      "Enter A Genre: RomCom\n",
      "['Forgetting Sarah Marshall', 'Her']\n"
     ]
    }
   ],
   "source": [
    "MovieRecommender(input(\"Enter A Genre: \").lower())"
   ]
  },
  {
   "cell_type": "code",
   "execution_count": 33,
   "metadata": {},
   "outputs": [
    {
     "name": "stdout",
     "output_type": "stream",
     "text": [
      "Enter A Genre: Action\n",
      "['DeadPool', 'Pacific Rim']\n"
     ]
    }
   ],
   "source": [
    "MovieRecommender(input(\"Enter A Genre: \").lower())"
   ]
  },
  {
   "cell_type": "code",
   "execution_count": 34,
   "metadata": {},
   "outputs": [
    {
     "name": "stdout",
     "output_type": "stream",
     "text": [
      "Enter A Genre: Thriller\n",
      "['Maze Runner', 'Inception']\n"
     ]
    }
   ],
   "source": [
    "MovieRecommender(input(\"Enter A Genre: \").lower())"
   ]
  }
 ],
 "metadata": {
  "kernelspec": {
   "display_name": "Python 3",
   "language": "python",
   "name": "python3"
  },
  "language_info": {
   "codemirror_mode": {
    "name": "ipython",
    "version": 3
   },
   "file_extension": ".py",
   "mimetype": "text/x-python",
   "name": "python",
   "nbconvert_exporter": "python",
   "pygments_lexer": "ipython3",
   "version": "3.7.6"
  }
 },
 "nbformat": 4,
 "nbformat_minor": 4
}
